{
  "nbformat": 4,
  "nbformat_minor": 0,
  "metadata": {
    "colab": {
      "provenance": []
    },
    "kernelspec": {
      "name": "python3",
      "display_name": "Python 3"
    },
    "language_info": {
      "name": "python"
    }
  },
  "cells": [
    {
      "cell_type": "markdown",
      "source": [
        "Theory Questions\n"
      ],
      "metadata": {
        "id": "tI7hg57wYLN7"
      }
    },
    {
      "cell_type": "code",
      "source": [
        "'''1. What are data structures, and why are they important?\n",
        "\n",
        "Data structures are ways of organizing and storing data so that they can be used efficiently.\n",
        "Importance: They help in faster data access, efficient memory usage, and better algorithm performance (e.g., searching, sorting).'''\n"
      ],
      "metadata": {
        "id": "pVFjwjlsQuR1"
      },
      "execution_count": null,
      "outputs": []
    },
    {
      "cell_type": "code",
      "source": [
        "'''2. Explain the difference between mutable and immutable data types with examples.\n",
        "\n",
        "Mutable: Can be changed after creation.\n",
        "Example → list, dict, set\n",
        "\n",
        "a = [1, 2, 3]\n",
        "a.append(4)  # changes allowed\n",
        "\n",
        "\n",
        "Immutable: Cannot be changed after creation.\n",
        "Example → tuple, string\n",
        "\n",
        "b = \"hello\"\n",
        "# b[0] = 'H' → not allowed'''"
      ],
      "metadata": {
        "id": "9C_OuD6SQuGy"
      },
      "execution_count": null,
      "outputs": []
    },
    {
      "cell_type": "code",
      "source": [
        "'''3. What are the main differences between lists and tuples in Python?\n",
        "\n",
        "| Feature     | List              | Tuple              |\n",
        "| ----------- | ----------------- | ------------------ |\n",
        "| Mutability  | Mutable           | Immutable          |\n",
        "| Syntax      | `[]`              | `()`               |\n",
        "| Performance | Slower            | Faster             |\n",
        "| Use case    | When data changes | When data is fixed |'''\n"
      ],
      "metadata": {
        "id": "LFX5u1pQQuDd"
      },
      "execution_count": null,
      "outputs": []
    },
    {
      "cell_type": "code",
      "source": [
        "'''4. Describe how dictionaries store data.\n",
        "\n",
        "Dictionaries store data as key-value pairs using a hashing mechanism.\n",
        "Each key is unique and acts as an index to its value.\n",
        "Example:'''\n",
        "\n",
        "student = {'name': 'Alice', 'age': 20}"
      ],
      "metadata": {
        "id": "X1w4b0ESQuBd"
      },
      "execution_count": null,
      "outputs": []
    },
    {
      "cell_type": "code",
      "source": [
        "'''5. Why might you use a set instead of a list in Python?\n",
        "\n",
        "-To remove duplicate values automatically.\n",
        "-For faster membership checking (in operation).\n",
        "-For mathematical operations like union, intersection, and difference'''"
      ],
      "metadata": {
        "id": "noXOJG4vQt_a"
      },
      "execution_count": null,
      "outputs": []
    },
    {
      "cell_type": "code",
      "source": [
        "'''6. What is a string in Python, and how is it different from a list?\n",
        "\n",
        "A string is a sequence of characters enclosed in quotes (' ' or \" \").\n",
        "Difference:\n",
        "-Strings are immutable; lists are mutable.\n",
        "-String elements must be characters, while lists can hold different data types.'''"
      ],
      "metadata": {
        "id": "wKCg2QZ3Qt6D"
      },
      "execution_count": null,
      "outputs": []
    },
    {
      "cell_type": "code",
      "source": [
        "'''7. How do tuples ensure data integrity in Python?\n",
        "\n",
        "Tuples are immutable, meaning their values cannot be changed after creation.\n",
        "This prevents accidental modification and helps preserve data integrity.'''"
      ],
      "metadata": {
        "id": "2qxT-q8sQtxR"
      },
      "execution_count": null,
      "outputs": []
    },
    {
      "cell_type": "code",
      "source": [
        "'''8. What is a hash table, and how does it relate to dictionaries in Python?\n",
        "\n",
        "A hash table is a data structure that maps keys to values using a hash function.\n",
        "Python’s dictionary is implemented internally using a hash table.'''"
      ],
      "metadata": {
        "id": "pTR5iD-wQtq8"
      },
      "execution_count": null,
      "outputs": []
    },
    {
      "cell_type": "code",
      "source": [
        "'''9. Can lists contain different data types in Python?\n",
        "\n",
        "Yes. A list can store elements of different data types, including numbers, strings, and even other lists.\n",
        "Example:\n",
        "my_list = [10, \"hello\", 3.14, [1, 2]]'''\n"
      ],
      "metadata": {
        "id": "oZ5hCmkBQtdz"
      },
      "execution_count": null,
      "outputs": []
    },
    {
      "cell_type": "code",
      "source": [
        "'''10. Explain why strings are immutable in Python.\n",
        "\n",
        "Strings are immutable for memory efficiency and security.\n",
        "When modified, a new string object is created instead of changing the original'''"
      ],
      "metadata": {
        "id": "qm3H1U6iQtPk"
      },
      "execution_count": null,
      "outputs": []
    },
    {
      "cell_type": "code",
      "source": [
        "'''11. What advantages do dictionaries offer over lists for certain tasks?\n",
        "\n",
        "-Faster lookup using keys.\n",
        "-Clear key-value mapping.\n",
        "-Ideal for structured data (like student records or JSON-like data).'''"
      ],
      "metadata": {
        "id": "hzVNJ52JQs9r"
      },
      "execution_count": null,
      "outputs": []
    },
    {
      "cell_type": "code",
      "execution_count": null,
      "metadata": {
        "id": "tPulIvgyQV-u"
      },
      "outputs": [],
      "source": [
        "'''12. Describe a scenario where using a tuple would be preferable over a list.\n",
        "\n",
        "When you want to store fixed data that should not change — e.g., days of the week:\n",
        "days = (\"Mon\", \"Tue\", \"Wed\", \"Thu\", \"Fri\", \"Sat\", \"Sun\")\n",
        "'''"
      ]
    },
    {
      "cell_type": "code",
      "source": [
        "'''13. How do sets handle duplicate values in Python?\n",
        "\n",
        "Sets automatically remove duplicates.\n",
        "Example:'''\n",
        "\n",
        "s = {1, 2, 2, 3}\n",
        "print(s)"
      ],
      "metadata": {
        "id": "HNicmPYUTpq2"
      },
      "execution_count": null,
      "outputs": []
    },
    {
      "cell_type": "markdown",
      "source": [
        "{1, 2, 3}\n"
      ],
      "metadata": {
        "id": "yZac72DFV_3A"
      }
    },
    {
      "cell_type": "code",
      "source": [
        "\n",
        "'''14. How does the “in” keyword work differently for lists and dictionaries?\n",
        "\n",
        "For lists, it checks if an element exists.\n",
        "\n",
        "2 in [1,2,3] → True\n",
        "\n",
        "\n",
        "For dictionaries, it checks if a key exists.\n",
        "\n",
        "'name' in {'name': 'Alice'} → True'''"
      ],
      "metadata": {
        "id": "Tz5qyKe7TuAU"
      },
      "execution_count": null,
      "outputs": []
    },
    {
      "cell_type": "code",
      "source": [
        "\n",
        "\n",
        "'''15. Can you modify the elements of a tuple? Explain why or why not.\n",
        "\n",
        "No, you cannot modify tuple elements because tuples are immutable.\n",
        "Once created, their elements cannot be changed, added, or removed.'''"
      ],
      "metadata": {
        "id": "-VsiE1UYTtsD"
      },
      "execution_count": null,
      "outputs": []
    },
    {
      "cell_type": "code",
      "source": [
        "\n",
        "'''16. What is a nested dictionary, and give an example of its use case.\n",
        "\n",
        "A nested dictionary is a dictionary inside another dictionary.\n",
        "Example:\n",
        "\n",
        "student = {\n",
        "  'name': 'Alice',\n",
        "  'grades': {'math': 90, 'science': 85}\n",
        "}'''"
      ],
      "metadata": {
        "id": "6tP7mri4Ttok"
      },
      "execution_count": null,
      "outputs": []
    },
    {
      "cell_type": "code",
      "source": [
        "'''17. Describe the time complexity of accessing elements in a dictionary.\n",
        "\n",
        "Accessing an element in a dictionary is O(1) (constant time) on average, due to hashing'''"
      ],
      "metadata": {
        "id": "iJgbMDMcTtcd"
      },
      "execution_count": null,
      "outputs": []
    },
    {
      "cell_type": "code",
      "source": [
        "'''18. In what situations are lists preferred over dictionaries?\n",
        "\n",
        "-When order matters.\n",
        "-When you only need values (not key-value pairs).\n",
        "-For sequential data (e.g., processing items in order).'''"
      ],
      "metadata": {
        "id": "w_OpWO1hTtY6"
      },
      "execution_count": null,
      "outputs": []
    },
    {
      "cell_type": "code",
      "source": [
        "'''19. Why are dictionaries considered unordered, and how does that affect data retrieval?\n",
        "\n",
        "Before Python 3.7, dictionaries were unordered; now they preserve insertion order but conceptually remain key-based, not index-based.\n",
        "You can’t access items by position, only by key.'''"
      ],
      "metadata": {
        "id": "ht5V0nhATtWp"
      },
      "execution_count": null,
      "outputs": []
    },
    {
      "cell_type": "code",
      "source": [
        "'''20. Explain the difference between a list and a dictionary in terms of data retrieval\n",
        "| Feature       | List                         | Dictionary          |\n",
        "| ------------- | ---------------------------- | ------------------- |\n",
        "| Access method | By index                     | By key              |\n",
        "| Speed         | Slower for lookups           | Faster (hash-based) |\n",
        "| Data type     | Ordered collection of values | Key-value pairs     |'''\n",
        "\n"
      ],
      "metadata": {
        "id": "tNyAFosvTtUY"
      },
      "execution_count": null,
      "outputs": []
    },
    {
      "cell_type": "markdown",
      "source": [
        "Practical **Questions**"
      ],
      "metadata": {
        "id": "qvFKq6UeY6mA"
      }
    },
    {
      "cell_type": "code",
      "source": [
        "'''\n",
        "1. Write a code to create a string with your name and print it'''\n",
        "sting=\"nikita\"\n",
        "sting"
      ],
      "metadata": {
        "colab": {
          "base_uri": "https://localhost:8080/",
          "height": 35
        },
        "id": "o-DHfQNiYbA9",
        "outputId": "c634ae2d-723d-4bc5-aeb8-fdfadd0df5d3"
      },
      "execution_count": null,
      "outputs": [
        {
          "output_type": "execute_result",
          "data": {
            "text/plain": [
              "'nikita'"
            ],
            "application/vnd.google.colaboratory.intrinsic+json": {
              "type": "string"
            }
          },
          "metadata": {},
          "execution_count": 2
        }
      ]
    },
    {
      "cell_type": "code",
      "source": [
        "\n",
        "'''2. Write a code to find the length of the string \"Hello World\".'''\n",
        "text=\"Hello World\"\n",
        "print(len(text))"
      ],
      "metadata": {
        "colab": {
          "base_uri": "https://localhost:8080/"
        },
        "id": "H4dqdfA4TtRX",
        "outputId": "3fc941dd-8924-4e6e-f3d6-d13119076fce"
      },
      "execution_count": null,
      "outputs": [
        {
          "output_type": "stream",
          "name": "stdout",
          "text": [
            "11\n"
          ]
        }
      ]
    },
    {
      "cell_type": "code",
      "source": [
        "'''3. Write a code to slice the first 3 characters from the string \"Python Programming\".'''\n",
        "\n",
        "text = \"Python Programming\"\n",
        "print(text[:3])"
      ],
      "metadata": {
        "colab": {
          "base_uri": "https://localhost:8080/"
        },
        "id": "NkH-knmDTtOH",
        "outputId": "08137f96-0a03-4d3f-efdd-be7bf77fcc0a"
      },
      "execution_count": null,
      "outputs": [
        {
          "output_type": "stream",
          "name": "stdout",
          "text": [
            "Pyt\n"
          ]
        }
      ]
    },
    {
      "cell_type": "code",
      "source": [
        "'''4. Write a code to convert the string \"hello\" to uppercase.'''\n",
        "\n",
        "text = \"hello\"\n",
        "print(text.upper())"
      ],
      "metadata": {
        "colab": {
          "base_uri": "https://localhost:8080/"
        },
        "id": "hZ1K4LUGTs_a",
        "outputId": "8010a5dd-d789-480f-e815-03463e573eb9"
      },
      "execution_count": null,
      "outputs": [
        {
          "output_type": "stream",
          "name": "stdout",
          "text": [
            "HELLO\n"
          ]
        }
      ]
    },
    {
      "cell_type": "code",
      "source": [
        "'''5. Write a code to replace the word \"apple\" with \"orange\" in the string \"I like apple\".'''\n",
        "\n",
        "text = \"I like apple\"\n",
        "print(text.replace(\"apple\", \"orange\"))\n"
      ],
      "metadata": {
        "colab": {
          "base_uri": "https://localhost:8080/"
        },
        "id": "gDgz1RWZTswF",
        "outputId": "4e5d95dd-6c1c-4bff-c7ea-66fb802fad89"
      },
      "execution_count": null,
      "outputs": [
        {
          "output_type": "stream",
          "name": "stdout",
          "text": [
            "I like orange\n"
          ]
        }
      ]
    },
    {
      "cell_type": "code",
      "source": [
        "'''6. Write a code to create a list with numbers 1 to 5 and print it.'''\n",
        "\n",
        "numbers = [1, 2, 3, 4, 5]\n",
        "print(numbers)"
      ],
      "metadata": {
        "colab": {
          "base_uri": "https://localhost:8080/"
        },
        "id": "lywptPN3Tsen",
        "outputId": "d7e6653a-b625-460b-aaa2-481bbeef0737"
      },
      "execution_count": null,
      "outputs": [
        {
          "output_type": "stream",
          "name": "stdout",
          "text": [
            "[1, 2, 3, 4, 5]\n"
          ]
        }
      ]
    },
    {
      "cell_type": "code",
      "source": [
        "'''7. Write a code to append the number 10 to the list [1, 2, 3, 4].'''\n",
        "\n",
        "numbers = [1, 2, 3, 4]\n",
        "numbers.append(10)\n",
        "print(numbers)"
      ],
      "metadata": {
        "colab": {
          "base_uri": "https://localhost:8080/"
        },
        "id": "un0FfvP6TsKD",
        "outputId": "a18cb168-6142-4f4e-d0c3-27f6e9ea4ba2"
      },
      "execution_count": null,
      "outputs": [
        {
          "output_type": "stream",
          "name": "stdout",
          "text": [
            "[1, 2, 3, 4, 10]\n"
          ]
        }
      ]
    },
    {
      "cell_type": "code",
      "source": [
        "\n",
        "'''8. Write a code to remove the number 3 from the list [1, 2, 3, 4, 5].'''\n",
        "\n",
        "numbers = [1, 2, 3, 4, 5]\n",
        "numbers.remove(3)\n",
        "print(numbers)"
      ],
      "metadata": {
        "colab": {
          "base_uri": "https://localhost:8080/"
        },
        "id": "PyHhp2GfTruv",
        "outputId": "1916b4eb-6c06-4f73-afca-8e8710d15a66"
      },
      "execution_count": null,
      "outputs": [
        {
          "output_type": "stream",
          "name": "stdout",
          "text": [
            "[1, 2, 4, 5]\n"
          ]
        }
      ]
    },
    {
      "cell_type": "code",
      "source": [
        "'''9. Write a code to access the second element in the list ['a', 'b', 'c', 'd'].'''\n",
        "\n",
        "letters = ['a', 'b', 'c', 'd']\n",
        "print(letters[1])"
      ],
      "metadata": {
        "colab": {
          "base_uri": "https://localhost:8080/"
        },
        "id": "efS5YPQyTrYy",
        "outputId": "f24a316c-d98d-489a-ef25-6a45a317f44f"
      },
      "execution_count": null,
      "outputs": [
        {
          "output_type": "stream",
          "name": "stdout",
          "text": [
            "b\n"
          ]
        }
      ]
    },
    {
      "cell_type": "code",
      "source": [
        "'''10. Write a code to reverse the list [10, 20, 30, 40, 50].'''\n",
        "\n",
        "numbers = [10, 20, 30, 40, 50]\n",
        "numbers.reverse()\n",
        "print(numbers)"
      ],
      "metadata": {
        "colab": {
          "base_uri": "https://localhost:8080/"
        },
        "id": "JzwCtphYTqhf",
        "outputId": "c85ceed7-61d0-4871-9c1a-7429526979ac"
      },
      "execution_count": null,
      "outputs": [
        {
          "output_type": "stream",
          "name": "stdout",
          "text": [
            "[50, 40, 30, 20, 10]\n"
          ]
        }
      ]
    },
    {
      "cell_type": "code",
      "source": [
        "'''11. Write a code to create a tuple with the elements 100, 200, and 300 and print it.'''\n",
        "\n",
        "tup = (100, 200, 300)\n",
        "print(tup)\n"
      ],
      "metadata": {
        "colab": {
          "base_uri": "https://localhost:8080/"
        },
        "id": "L1-KONsEaUaF",
        "outputId": "3923296f-74e7-43a1-ec4c-8d0055e9d786"
      },
      "execution_count": null,
      "outputs": [
        {
          "output_type": "stream",
          "name": "stdout",
          "text": [
            "(100, 200, 300)\n"
          ]
        }
      ]
    },
    {
      "cell_type": "code",
      "source": [
        "'''12. Write a code to access the second-to-last element of the tuple ('red', 'green', 'blue', 'yellow').'''\n",
        "\n",
        "colors = ('red', 'green', 'blue', 'yellow')\n",
        "print(colors[-2])"
      ],
      "metadata": {
        "colab": {
          "base_uri": "https://localhost:8080/"
        },
        "id": "bwSDSwmNaUWj",
        "outputId": "0eb687f3-8133-4a27-b467-4aecde3a3714"
      },
      "execution_count": null,
      "outputs": [
        {
          "output_type": "stream",
          "name": "stdout",
          "text": [
            "blue\n"
          ]
        }
      ]
    },
    {
      "cell_type": "code",
      "source": [
        "'''13. Write a code to find the minimum number in the tuple (10, 20, 5, 15).'''\n",
        "\n",
        "tup = (10, 20, 5, 15)\n",
        "print(min(tup))"
      ],
      "metadata": {
        "colab": {
          "base_uri": "https://localhost:8080/"
        },
        "id": "ORbjXUPoaUSy",
        "outputId": "b2125d56-2bb8-4308-8bd1-10e79d07f7a4"
      },
      "execution_count": null,
      "outputs": [
        {
          "output_type": "stream",
          "name": "stdout",
          "text": [
            "5\n"
          ]
        }
      ]
    },
    {
      "cell_type": "code",
      "source": [
        "'''14. Write a code to find the index of the element \"cat\" in the tuple ('dog', 'cat', 'rabbit').\n",
        "'''\n",
        "animals = ('dog', 'cat', 'rabbit')\n",
        "print(animals.index('cat'))"
      ],
      "metadata": {
        "colab": {
          "base_uri": "https://localhost:8080/"
        },
        "id": "Bwnh2F5TaUPh",
        "outputId": "76bcc722-1a86-4c4c-95bf-fb75a9ef91fc"
      },
      "execution_count": null,
      "outputs": [
        {
          "output_type": "stream",
          "name": "stdout",
          "text": [
            "1\n"
          ]
        }
      ]
    },
    {
      "cell_type": "code",
      "source": [
        "'''15. Write a code to create a tuple containing three different fruits and check if \"kiwi\" is in it.'''\n",
        "\n",
        "fruits = ('apple', 'banana', 'cherry')\n",
        "print('kiwi' in fruits)"
      ],
      "metadata": {
        "colab": {
          "base_uri": "https://localhost:8080/"
        },
        "id": "49BGNMv8aUM-",
        "outputId": "2a3e1df2-3bfb-4b87-e93f-6f9527887b6e"
      },
      "execution_count": null,
      "outputs": [
        {
          "output_type": "stream",
          "name": "stdout",
          "text": [
            "False\n"
          ]
        }
      ]
    },
    {
      "cell_type": "code",
      "source": [
        "'''16. Write a code to create a set with the elements {'a', 'b', 'c'} and print it.'''\n",
        "\n",
        "s = {'a', 'b', 'c'}\n",
        "print(s)\n"
      ],
      "metadata": {
        "colab": {
          "base_uri": "https://localhost:8080/"
        },
        "id": "8jK_jrTIaT0K",
        "outputId": "e7f628c1-5477-4326-9f79-5b6380281fd3"
      },
      "execution_count": null,
      "outputs": [
        {
          "output_type": "stream",
          "name": "stdout",
          "text": [
            "{'a', 'b', 'c'}\n"
          ]
        }
      ]
    },
    {
      "cell_type": "code",
      "source": [
        "'''17. Write a code to clear all elements from the set {1, 2, 3, 4, 5}.'''\n",
        "\n",
        "s = {1, 2, 3, 4, 5}\n",
        "s.clear()\n",
        "print(s)"
      ],
      "metadata": {
        "colab": {
          "base_uri": "https://localhost:8080/"
        },
        "id": "Oq3voGWuaTnr",
        "outputId": "461db7c0-6b16-4af3-f399-e4481cc30b47"
      },
      "execution_count": null,
      "outputs": [
        {
          "output_type": "stream",
          "name": "stdout",
          "text": [
            "set()\n"
          ]
        }
      ]
    },
    {
      "cell_type": "code",
      "source": [
        "'''18. Write a code to remove the element 4 from the set {1, 2, 3, 4}.'''\n",
        "\n",
        "s = {1, 2, 3, 4}\n",
        "s.remove(4)\n",
        "print(s)"
      ],
      "metadata": {
        "colab": {
          "base_uri": "https://localhost:8080/"
        },
        "id": "OcW7gYV8aTRk",
        "outputId": "1f1ad249-141b-40a0-d9c0-425cb0f92e0e"
      },
      "execution_count": null,
      "outputs": [
        {
          "output_type": "stream",
          "name": "stdout",
          "text": [
            "{1, 2, 3}\n"
          ]
        }
      ]
    },
    {
      "cell_type": "code",
      "source": [
        "'''19. Write a code to find the union of two sets {1, 2, 3} and {3, 4, 5}.'''\n",
        "\n",
        "set1 = {1, 2, 3}\n",
        "set2 = {3, 4, 5}\n",
        "print(set1.union(set2))"
      ],
      "metadata": {
        "colab": {
          "base_uri": "https://localhost:8080/"
        },
        "id": "C5vGhjWzbnjp",
        "outputId": "c364b0e3-d4b1-47f9-9558-6928ea4aa2fc"
      },
      "execution_count": null,
      "outputs": [
        {
          "output_type": "stream",
          "name": "stdout",
          "text": [
            "{1, 2, 3, 4, 5}\n"
          ]
        }
      ]
    },
    {
      "cell_type": "code",
      "source": [
        "'''20. Write a code to find the intersection of two sets {1, 2, 3} and {2, 3, 4}.'''\n",
        "\n",
        "set1 = {1, 2, 3}\n",
        "set2 = {2, 3, 4}\n",
        "print(set1.intersection(set2))"
      ],
      "metadata": {
        "colab": {
          "base_uri": "https://localhost:8080/"
        },
        "id": "jucvLyZmbnVi",
        "outputId": "cb5134d2-5985-49dd-9208-2d3b880ab1e0"
      },
      "execution_count": null,
      "outputs": [
        {
          "output_type": "stream",
          "name": "stdout",
          "text": [
            "{2, 3}\n"
          ]
        }
      ]
    },
    {
      "cell_type": "code",
      "source": [
        "'''21. Write a code to create a dictionary with the keys \"name\", \"age\", and \"city\", and print it.'''\n",
        "\n",
        "person = {\"name\": \"Alice\", \"age\": 25, \"city\": \"New York\"}\n",
        "print(person)"
      ],
      "metadata": {
        "colab": {
          "base_uri": "https://localhost:8080/"
        },
        "id": "vZl2FJjYbnIt",
        "outputId": "06c85652-141f-4bcb-f2cb-9c2c98764720"
      },
      "execution_count": null,
      "outputs": [
        {
          "output_type": "stream",
          "name": "stdout",
          "text": [
            "{'name': 'Alice', 'age': 25, 'city': 'New York'}\n"
          ]
        }
      ]
    },
    {
      "cell_type": "code",
      "source": [
        "\n",
        "'''22. Write a code to add a new key–value pair \"country\": \"USA\" to the dictionary {'name': 'John', 'age': 25}.'''\n",
        "\n",
        "person = {\"name\": \"John\", \"age\": 25}\n",
        "person[\"country\"] = \"USA\"\n",
        "print(person)"
      ],
      "metadata": {
        "colab": {
          "base_uri": "https://localhost:8080/"
        },
        "id": "kLi7DpJXbm9p",
        "outputId": "33d09ce2-4fcb-4ec4-ee1f-0e85b2b071e1"
      },
      "execution_count": null,
      "outputs": [
        {
          "output_type": "stream",
          "name": "stdout",
          "text": [
            "{'name': 'John', 'age': 25, 'country': 'USA'}\n"
          ]
        }
      ]
    },
    {
      "cell_type": "code",
      "source": [
        "\n",
        "'''23. Write a code to access the value associated with the key \"name\" in the dictionary {'name': 'Alice', 'age': 30}.'''\n",
        "\n",
        "person = {\"name\": \"Alice\", \"age\": 30}\n",
        "print(person[\"name\"])"
      ],
      "metadata": {
        "colab": {
          "base_uri": "https://localhost:8080/"
        },
        "id": "U3IP5NtLbmzc",
        "outputId": "4c27fb71-9a65-465d-b514-c223b41f062f"
      },
      "execution_count": null,
      "outputs": [
        {
          "output_type": "stream",
          "name": "stdout",
          "text": [
            "Alice\n"
          ]
        }
      ]
    },
    {
      "cell_type": "code",
      "source": [
        "'''24. Write a code to remove the key \"age\" from the dictionary {'name': 'Bob', 'age': 22, 'city': 'New York'}.'''\n",
        "\n",
        "person = {\"name\": \"Bob\", \"age\": 22, \"city\": \"New York\"}\n",
        "del person[\"age\"]\n",
        "print(person)\n"
      ],
      "metadata": {
        "colab": {
          "base_uri": "https://localhost:8080/"
        },
        "id": "4NapG2xJbmoa",
        "outputId": "ba7367ed-0357-450c-9d6e-3418706b21cb"
      },
      "execution_count": null,
      "outputs": [
        {
          "output_type": "stream",
          "name": "stdout",
          "text": [
            "{'name': 'Bob', 'city': 'New York'}\n"
          ]
        }
      ]
    },
    {
      "cell_type": "code",
      "source": [
        "'''25. Write a code to check if the key \"city\" exists in the dictionary {'name': 'Alice', 'city': 'Paris'}.'''\n",
        "\n",
        "person = {\"name\": \"Alice\", \"city\": \"Paris\"}\n",
        "print(\"city\" in person)"
      ],
      "metadata": {
        "colab": {
          "base_uri": "https://localhost:8080/"
        },
        "id": "a91ZHf8obmdX",
        "outputId": "84fcfcce-8d08-422c-891c-bed745242783"
      },
      "execution_count": null,
      "outputs": [
        {
          "output_type": "stream",
          "name": "stdout",
          "text": [
            "True\n"
          ]
        }
      ]
    },
    {
      "cell_type": "code",
      "source": [
        "\n",
        "'''26. Write a code to create a list, a tuple, and a dictionary, and print them all.'''\n",
        "\n",
        "lst = [1, 2, 3]\n",
        "tup = (4, 5, 6)\n",
        "dic = {\"a\": 1, \"b\": 2}\n",
        "print(lst)\n",
        "print(tup)\n",
        "print(dic)"
      ],
      "metadata": {
        "colab": {
          "base_uri": "https://localhost:8080/"
        },
        "id": "6RpOG5uAbmQl",
        "outputId": "27c64aaf-d853-4fe2-b396-7e1ced16d487"
      },
      "execution_count": null,
      "outputs": [
        {
          "output_type": "stream",
          "name": "stdout",
          "text": [
            "[1, 2, 3]\n",
            "(4, 5, 6)\n",
            "{'a': 1, 'b': 2}\n"
          ]
        }
      ]
    },
    {
      "cell_type": "code",
      "source": [
        "\n",
        "'''27. Write a code to create a list of 5 random numbers between 1 and 100, sort it in ascending order, and print the result.\n",
        "'''\n",
        "numbers=[34,56,45,78,12]\n",
        "numbers.sort()\n",
        "print(numbers)"
      ],
      "metadata": {
        "colab": {
          "base_uri": "https://localhost:8080/"
        },
        "id": "uWwZsf9FbmCe",
        "outputId": "e8de81cc-77e6-499a-b69b-5e35d3e3c628"
      },
      "execution_count": null,
      "outputs": [
        {
          "output_type": "stream",
          "name": "stdout",
          "text": [
            "[12, 34, 45, 56, 78]\n"
          ]
        }
      ]
    },
    {
      "cell_type": "code",
      "source": [
        "\n",
        "'''28. Write a code to create a list with strings and print the element at the third index.'''\n",
        "\n",
        "lst = [\"apple\", \"banana\", \"cherry\", \"date\", \"grape\"]\n",
        "print(lst[3])"
      ],
      "metadata": {
        "colab": {
          "base_uri": "https://localhost:8080/"
        },
        "id": "a_3m-OzlblyN",
        "outputId": "fe4e762d-4007-481c-ed14-c4395678b2c2"
      },
      "execution_count": null,
      "outputs": [
        {
          "output_type": "stream",
          "name": "stdout",
          "text": [
            "date\n"
          ]
        }
      ]
    },
    {
      "cell_type": "code",
      "source": [
        "\n",
        "'''29. Write a code to combine two dictionaries into one and print the result.'''\n",
        "\n",
        "dict1 = {\"a\": 1, \"b\": 2}\n",
        "dict2 = {\"c\": 3, \"d\": 4}\n",
        "dict1.update(dict2)\n",
        "print(dict1)"
      ],
      "metadata": {
        "colab": {
          "base_uri": "https://localhost:8080/"
        },
        "id": "Gd3cspW1blWb",
        "outputId": "e0a82bb5-3239-4cb0-8d28-a60de20980c9"
      },
      "execution_count": null,
      "outputs": [
        {
          "output_type": "stream",
          "name": "stdout",
          "text": [
            "{'a': 1, 'b': 2, 'c': 3, 'd': 4}\n"
          ]
        }
      ]
    },
    {
      "cell_type": "code",
      "source": [
        "\n",
        "'''30. Write a code to convert a list of strings into a set.'''\n",
        "\n",
        "lst = [\"apple\", \"banana\", \"cherry\", \"apple\"]\n",
        "print(set(lst))"
      ],
      "metadata": {
        "colab": {
          "base_uri": "https://localhost:8080/"
        },
        "id": "9x8-q-ZublGX",
        "outputId": "91334ffb-4d8c-4f8c-b383-5107c7d02f5b"
      },
      "execution_count": null,
      "outputs": [
        {
          "output_type": "stream",
          "name": "stdout",
          "text": [
            "{'cherry', 'banana', 'apple'}\n"
          ]
        }
      ]
    }
  ]
}